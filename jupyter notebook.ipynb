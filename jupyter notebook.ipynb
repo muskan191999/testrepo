{
 "cells": [
  {
   "cell_type": "markdown",
   "id": "2ddd99d7-c75f-4d33-a5b2-aecce75a2516",
   "metadata": {},
   "source": [
    "My Jupyter Notebook on IBM Watson Studio"
   ]
  },
  {
   "cell_type": "markdown",
   "id": "56aac711-ddae-4ca9-af6e-d8d021ca3cb0",
   "metadata": {},
   "source": [
    "MUSKAN BISHT\n",
    "Fashion consultant"
   ]
  },
  {
   "cell_type": "markdown",
   "id": "0f841663-bbc5-4cad-bbea-ac6acd11873e",
   "metadata": {},
   "source": [
    "I am interested in Data Science because I love to play with numbers and there is a good career growth in this."
   ]
  },
  {
   "cell_type": "markdown",
   "id": "669ff17f-a357-468f-a3d9-bad2dfe68757",
   "metadata": {},
   "source": [
    "My code will show you the numeric numbers"
   ]
  },
  {
   "cell_type": "code",
   "execution_count": 2,
   "id": "b3db7172-598e-4ac8-9010-e233136ad24f",
   "metadata": {},
   "outputs": [
    {
     "data": {
      "text/plain": [
       "2"
      ]
     },
     "execution_count": 2,
     "metadata": {},
     "output_type": "execute_result"
    }
   ],
   "source": [
    "1 + 1"
   ]
  },
  {
   "cell_type": "markdown",
   "id": "d3a46a07-f6b5-4816-8d68-278456f9dca3",
   "metadata": {},
   "source": [
    "<a href=\"https://dataplatform.cloud.ibm.com/gallery\">IBM Cloud Gallery</a>"
   ]
  },
  {
   "cell_type": "code",
   "execution_count": null,
   "id": "4bbd912a-dda2-4269-a845-187e9c21d526",
   "metadata": {},
   "outputs": [],
   "source": []
  }
 ],
 "metadata": {
  "kernelspec": {
   "display_name": "Python",
   "language": "python",
   "name": "conda-env-python-py"
  },
  "language_info": {
   "codemirror_mode": {
    "name": "ipython",
    "version": 3
   },
   "file_extension": ".py",
   "mimetype": "text/x-python",
   "name": "python",
   "nbconvert_exporter": "python",
   "pygments_lexer": "ipython3",
   "version": "3.7.12"
  }
 },
 "nbformat": 4,
 "nbformat_minor": 5
}
